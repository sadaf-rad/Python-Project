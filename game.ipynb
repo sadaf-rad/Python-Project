{
 "cells": [
  {
   "cell_type": "markdown",
   "metadata": {},
   "source": [
    "- get pc choice \n",
    "- get player choice \n",
    "- get winner \n",
    "- another round?"
   ]
  },
  {
   "cell_type": "code",
   "execution_count": 32,
   "metadata": {},
   "outputs": [],
   "source": [
    "import random \n",
    "\n",
    "\n",
    "class RPS :\n",
    "    def __init__(self,name) :\n",
    "        self.choices = ['rock','paper','scissors']\n",
    "        self.player_name = name\n",
    "\n",
    "    def get_player_choice (self):\n",
    "        user_choice = input(f'Enter your choice({self.choices}):')\n",
    "        if user_choice.lower() in self.choices:\n",
    "            return user_choice.lower()\n",
    "            \n",
    "        else:\n",
    "            print(f\"Invalid choice, You havebto select from({self.choices}).\")\n",
    "            return self.get_player_choice()\n",
    "        \n",
    "    def get_computer_choice (self):\n",
    "        return random.choice(self.choices)\n",
    "    \n",
    "    def decide_winner(self, user_choice , computer_choice):\n",
    "        if user_choice == computer_choice :\n",
    "            print ('its a tie!')\n",
    "        win_combinantion= [('rock','scissors'),('paper', 'rock'), ('scissor','rock')]\n",
    "        for win_com in win_combinantion:\n",
    "            if (user_choice == win_com[0]) & (computer_choice == win_com[1]):\n",
    "                return \"congrats , you won! \"\n",
    "        return 'oh, NO , The computer won!'\n",
    "\n",
    "    def play (self):\n",
    "        user_choice = self.get_player_choice()\n",
    "        computer_choice = self.get_computer_choice()\n",
    "        winner_msg = self.decide_winner(user_choice, computer_choice)\n",
    "        print(f'computer choice = ({computer_choice})')\n",
    "        print(winner_msg)"
   ]
  },
  {
   "cell_type": "code",
   "execution_count": 33,
   "metadata": {},
   "outputs": [],
   "source": [
    "game = RPS(\"sadaf\")"
   ]
  },
  {
   "cell_type": "code",
   "execution_count": 36,
   "metadata": {},
   "outputs": [
    {
     "name": "stdout",
     "output_type": "stream",
     "text": [
      "computer choice = (paper)\n",
      "oh, NO , The computer won!\n",
      "Invalid choice, You havebto select from(['rock', 'paper', 'scissors']).\n",
      "computer choice = (scissors)\n",
      "congrats , you won! \n",
      "computer choice = (scissors)\n",
      "oh, NO , The computer won!\n"
     ]
    }
   ],
   "source": [
    "while True:\n",
    "    game.play()\n",
    "\n",
    "    continue_game = input('Do you want to play another round? (Enter any key to play again! , enter q,Q to exit !)')\n",
    "    if continue_game.lower() == 'q' :\n",
    "        break\n"
   ]
  }
 ],
 "metadata": {
  "kernelspec": {
   "display_name": "base",
   "language": "python",
   "name": "python3"
  },
  "language_info": {
   "codemirror_mode": {
    "name": "ipython",
    "version": 3
   },
   "file_extension": ".py",
   "mimetype": "text/x-python",
   "name": "python",
   "nbconvert_exporter": "python",
   "pygments_lexer": "ipython3",
   "version": "3.11.5"
  }
 },
 "nbformat": 4,
 "nbformat_minor": 2
}
