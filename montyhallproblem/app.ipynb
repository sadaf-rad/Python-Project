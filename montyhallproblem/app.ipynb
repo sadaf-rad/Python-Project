{
 "cells": [
  {
   "cell_type": "code",
   "execution_count": null,
   "metadata": {},
   "outputs": [],
   "source": [
    "#monty_hall_game (switch_doors)"
   ]
  },
  {
   "cell_type": "code",
   "execution_count": 18,
   "metadata": {},
   "outputs": [],
   "source": [
    "import random\n",
    "def monty_hall_game (switch_doors):\n",
    "    doors = ['car', 'goat', 'goat']\n",
    "    random.shuffle(doors)\n",
    "\n",
    "    initial_choice = random.choice(range (3))\n",
    "\n",
    "    doors_revealed = [i for i in range (3)  if i != initial_choice and doors[i] != 'car']\n",
    "    door_revealed = random.choice(doors_revealed)\n",
    "\n",
    "    if switch_doors:\n",
    "        final_choice = [ i for i in range (3) if i != initial_choice and i != door_revealed] [0]\n",
    "    else :\n",
    "        final_choice = initial_choice   \n",
    "\n",
    "    return doors [final_choice] == 'car'\n",
    "\n",
    "\n",
    "\n",
    "    "
   ]
  },
  {
   "cell_type": "code",
   "execution_count": 30,
   "metadata": {},
   "outputs": [],
   "source": [
    "def simulate_game(num_games) :\n",
    "    win_no_switch= sum ([monty_hall_game(False) for _ in range (num_games)])\n",
    "    win_switch = sum ([monty_hall_game(True) for _ in range (num_games)])\n",
    "\n",
    "    return win_no_switch / num_games , win_switch / num_games\n",
    "\n"
   ]
  },
  {
   "cell_type": "code",
   "execution_count": 32,
   "metadata": {},
   "outputs": [
    {
     "data": {
      "text/plain": [
       "(0.36, 0.63)"
      ]
     },
     "execution_count": 32,
     "metadata": {},
     "output_type": "execute_result"
    }
   ],
   "source": [
    "simulate_game(100)"
   ]
  }
 ],
 "metadata": {
  "kernelspec": {
   "display_name": "base",
   "language": "python",
   "name": "python3"
  },
  "language_info": {
   "codemirror_mode": {
    "name": "ipython",
    "version": 3
   },
   "file_extension": ".py",
   "mimetype": "text/x-python",
   "name": "python",
   "nbconvert_exporter": "python",
   "pygments_lexer": "ipython3",
   "version": "3.11.5"
  },
  "orig_nbformat": 4
 },
 "nbformat": 4,
 "nbformat_minor": 2
}
