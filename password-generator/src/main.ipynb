{
 "cells": [
  {
   "cell_type": "code",
   "execution_count": 2,
   "metadata": {},
   "outputs": [],
   "source": [
    "from abc import ABC, abstractmethod\n",
    "\n",
    "class passwordgenerator (ABC):\n",
    "    @abstractmethod\n",
    "    def generate(self):\n",
    "        pass"
   ]
  },
  {
   "cell_type": "code",
   "execution_count": 3,
   "metadata": {},
   "outputs": [],
   "source": [
    "import random \n",
    "import string \n",
    "\n",
    "class pingenerator (passwordgenerator):\n",
    "    def __init__(self,length) :\n",
    "        self.length = length\n",
    "     \n",
    "    def generate(self):\n",
    "        return \"\".join([random.choice(string.digits) for _ in range (self.length)])\n",
    "\n"
   ]
  },
  {
   "cell_type": "code",
   "execution_count": 4,
   "metadata": {},
   "outputs": [
    {
     "data": {
      "text/plain": [
       "'9055738027'"
      ]
     },
     "execution_count": 4,
     "metadata": {},
     "output_type": "execute_result"
    }
   ],
   "source": [
    "password_gebnerator = pingenerator(length=10)\n",
    "password_gebnerator.generate()"
   ]
  },
  {
   "cell_type": "code",
   "execution_count": 6,
   "metadata": {},
   "outputs": [],
   "source": [
    "import random \n",
    "import string\n",
    "class randompasswordgenerator(passwordgenerator):\n",
    "    def __init__(self, length : int=9 , include_numbers : bool = False , include_symbol : bool = False ):\n",
    "        self.length = length\n",
    "        self.characters = string.ascii_letters\n",
    "        if include_numbers :\n",
    "            self.characters += string.digits \n",
    "        if include_symbol :\n",
    "            self.characters += string.punctuation\n",
    "        \n",
    "    def generate(self):\n",
    "       return \"\".join([random.choice(self.characters) for _ in range (self.length)])\n",
    "       \n",
    "       "
   ]
  },
  {
   "cell_type": "code",
   "execution_count": 7,
   "metadata": {},
   "outputs": [
    {
     "data": {
      "text/plain": [
       "'%eU[[o3\"di'"
      ]
     },
     "execution_count": 7,
     "metadata": {},
     "output_type": "execute_result"
    }
   ],
   "source": [
    "password_gebnerator = randompasswordgenerator(length = 10 , include_numbers= True , include_symbol =True)\n",
    "password_gebnerator.generate()"
   ]
  },
  {
   "cell_type": "code",
   "execution_count": 12,
   "metadata": {},
   "outputs": [],
   "source": [
    "import random \n",
    "import string \n",
    "import nltk \n",
    "\n",
    "class memorablepasswordgenerator (passwordgenerator):\n",
    "    def __init__(\n",
    "            self, \n",
    "            capitalize : bool = False,\n",
    "            seperator : str = '-',\n",
    "            vocabulary : list = None,\n",
    "            num_of_words : int = 4 ,) :\n",
    "        if vocabulary == None :\n",
    "            vocabulary = nltk.corpus.words.words()\n",
    "        self.vocabulary = vocabulary\n",
    "        self.seperator = seperator\n",
    "        self.capitalize = capitalize\n",
    "        self.num_of_words = num_of_words\n",
    "    def generate(self) :\n",
    "        password_words = [random.choice(self.vocabulary) for _ in range (self.num_of_words)]\n",
    "        \n",
    "        return self.seperator.join(password_words)\n",
    "\n",
    "\n",
    "        \n",
    "        \n",
    "        \n",
    "\n",
    "        "
   ]
  },
  {
   "cell_type": "code",
   "execution_count": 13,
   "metadata": {},
   "outputs": [
    {
     "data": {
      "text/plain": [
       "'annuller-Linyphia-redondilla-hematopericardium'"
      ]
     },
     "execution_count": 13,
     "metadata": {},
     "output_type": "execute_result"
    }
   ],
   "source": [
    "password_gebnerator = memorablepasswordgenerator()\n",
    "password_gebnerator.generate()"
   ]
  }
 ],
 "metadata": {
  "kernelspec": {
   "display_name": "base",
   "language": "python",
   "name": "python3"
  },
  "language_info": {
   "codemirror_mode": {
    "name": "ipython",
    "version": 3
   },
   "file_extension": ".py",
   "mimetype": "text/x-python",
   "name": "python",
   "nbconvert_exporter": "python",
   "pygments_lexer": "ipython3",
   "version": "3.11.5"
  }
 },
 "nbformat": 4,
 "nbformat_minor": 2
}
